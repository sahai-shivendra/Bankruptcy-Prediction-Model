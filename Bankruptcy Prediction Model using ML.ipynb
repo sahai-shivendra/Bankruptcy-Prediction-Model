{
 "cells": [
  {
   "cell_type": "code",
   "execution_count": 36,
   "metadata": {},
   "outputs": [],
   "source": [
    "import numpy as np # linear algebra\n",
    "import pandas as pd # data processing, CSV file I/O (e.g. pd.read_csv)\n",
    "import seaborn as sns \n",
    "import matplotlib.pyplot as plt "
   ]
  },
  {
   "cell_type": "code",
   "execution_count": 37,
   "metadata": {},
   "outputs": [
    {
     "name": "stdout",
     "output_type": "stream",
     "text": [
      "Index(['Bankrupt?', ' ROA(C) before interest and depreciation before interest',\n",
      "       ' ROA(A) before interest and % after tax',\n",
      "       ' ROA(B) before interest and depreciation after tax',\n",
      "       ' Operating Gross Margin', ' Realized Sales Gross Margin',\n",
      "       ' Operating Profit Rate', ' Pre-tax net Interest Rate',\n",
      "       ' After-tax net Interest Rate',\n",
      "       ' Non-industry income and expenditure/revenue',\n",
      "       ' Continuous interest rate (after tax)', ' Operating Expense Rate',\n",
      "       ' Research and development expense rate', ' Cash flow rate',\n",
      "       ' Interest-bearing debt interest rate', ' Tax rate (A)',\n",
      "       ' Net Value Per Share (B)', ' Net Value Per Share (A)',\n",
      "       ' Net Value Per Share (C)', ' Persistent EPS in the Last Four Seasons',\n",
      "       ' Cash Flow Per Share', ' Revenue Per Share (Yuan ¥)',\n",
      "       ' Operating Profit Per Share (Yuan ¥)',\n",
      "       ' Per Share Net profit before tax (Yuan ¥)',\n",
      "       ' Realized Sales Gross Profit Growth Rate',\n",
      "       ' Operating Profit Growth Rate', ' After-tax Net Profit Growth Rate',\n",
      "       ' Regular Net Profit Growth Rate', ' Continuous Net Profit Growth Rate',\n",
      "       ' Total Asset Growth Rate', ' Net Value Growth Rate',\n",
      "       ' Total Asset Return Growth Rate Ratio', ' Cash Reinvestment %',\n",
      "       ' Current Ratio', ' Quick Ratio', ' Interest Expense Ratio',\n",
      "       ' Total debt/Total net worth', ' Debt ratio %', ' Net worth/Assets',\n",
      "       ' Long-term fund suitability ratio (A)', ' Borrowing dependency',\n",
      "       ' Contingent liabilities/Net worth',\n",
      "       ' Operating profit/Paid-in capital',\n",
      "       ' Net profit before tax/Paid-in capital',\n",
      "       ' Inventory and accounts receivable/Net value', ' Total Asset Turnover',\n",
      "       ' Accounts Receivable Turnover', ' Average Collection Days',\n",
      "       ' Inventory Turnover Rate (times)', ' Fixed Assets Turnover Frequency',\n",
      "       ' Net Worth Turnover Rate (times)', ' Revenue per person',\n",
      "       ' Operating profit per person', ' Allocation rate per person',\n",
      "       ' Working Capital to Total Assets', ' Quick Assets/Total Assets',\n",
      "       ' Current Assets/Total Assets', ' Cash/Total Assets',\n",
      "       ' Quick Assets/Current Liability', ' Cash/Current Liability',\n",
      "       ' Current Liability to Assets', ' Operating Funds to Liability',\n",
      "       ' Inventory/Working Capital', ' Inventory/Current Liability',\n",
      "       ' Current Liabilities/Liability', ' Working Capital/Equity',\n",
      "       ' Current Liabilities/Equity', ' Long-term Liability to Current Assets',\n",
      "       ' Retained Earnings to Total Assets', ' Total income/Total expense',\n",
      "       ' Total expense/Assets', ' Current Asset Turnover Rate',\n",
      "       ' Quick Asset Turnover Rate', ' Working capitcal Turnover Rate',\n",
      "       ' Cash Turnover Rate', ' Cash Flow to Sales', ' Fixed Assets to Assets',\n",
      "       ' Current Liability to Liability', ' Current Liability to Equity',\n",
      "       ' Equity to Long-term Liability', ' Cash Flow to Total Assets',\n",
      "       ' Cash Flow to Liability', ' CFO to Assets', ' Cash Flow to Equity',\n",
      "       ' Current Liability to Current Assets', ' Liability-Assets Flag',\n",
      "       ' Net Income to Total Assets', ' Total assets to GNP price',\n",
      "       ' No-credit Interval', ' Gross Profit to Sales',\n",
      "       ' Net Income to Stockholder's Equity', ' Liability to Equity',\n",
      "       ' Degree of Financial Leverage (DFL)',\n",
      "       ' Interest Coverage Ratio (Interest expense to EBIT)',\n",
      "       ' Net Income Flag', ' Equity to Liability'],\n",
      "      dtype='object')\n"
     ]
    }
   ],
   "source": [
    "df=pd.read_csv(\"bank_data.csv\")\n",
    "df.head()\n",
    "print(df.columns)"
   ]
  },
  {
   "cell_type": "code",
   "execution_count": 38,
   "metadata": {},
   "outputs": [
    {
     "data": {
      "text/plain": [
       "(6819, 96)"
      ]
     },
     "execution_count": 38,
     "metadata": {},
     "output_type": "execute_result"
    }
   ],
   "source": [
    "df.shape"
   ]
  },
  {
   "cell_type": "code",
   "execution_count": 39,
   "metadata": {},
   "outputs": [
    {
     "name": "stdout",
     "output_type": "stream",
     "text": [
      "0       1\n",
      "1       1\n",
      "2       1\n",
      "3       1\n",
      "4       1\n",
      "       ..\n",
      "6814    0\n",
      "6815    0\n",
      "6816    0\n",
      "6817    0\n",
      "6818    0\n",
      "Name: Bankrupt?, Length: 6819, dtype: int64\n"
     ]
    },
    {
     "data": {
      "text/plain": [
       "0    6599\n",
       "1     220\n",
       "Name: Bankrupt?, dtype: int64"
      ]
     },
     "execution_count": 39,
     "metadata": {},
     "output_type": "execute_result"
    }
   ],
   "source": [
    "label=df['Bankrupt?']\n",
    "print(label)\n",
    "label.value_counts()"
   ]
  },
  {
   "cell_type": "code",
   "execution_count": 40,
   "metadata": {},
   "outputs": [
    {
     "name": "stdout",
     "output_type": "stream",
     "text": [
      "       ROA(C) before interest and depreciation before interest  \\\n",
      "0                                              0.370594          \n",
      "1                                              0.464291          \n",
      "2                                              0.426071          \n",
      "3                                              0.399844          \n",
      "4                                              0.465022          \n",
      "...                                                 ...          \n",
      "6814                                           0.493687          \n",
      "6815                                           0.475162          \n",
      "6816                                           0.472725          \n",
      "6817                                           0.506264          \n",
      "6818                                           0.493053          \n",
      "\n",
      "       ROA(A) before interest and % after tax  \\\n",
      "0                                    0.424389   \n",
      "1                                    0.538214   \n",
      "2                                    0.499019   \n",
      "3                                    0.451265   \n",
      "4                                    0.538432   \n",
      "...                                       ...   \n",
      "6814                                 0.539468   \n",
      "6815                                 0.538269   \n",
      "6816                                 0.533744   \n",
      "6817                                 0.559911   \n",
      "6818                                 0.570105   \n",
      "\n",
      "       ROA(B) before interest and depreciation after tax  \\\n",
      "0                                              0.405750    \n",
      "1                                              0.516730    \n",
      "2                                              0.472295    \n",
      "3                                              0.457733    \n",
      "4                                              0.522298    \n",
      "...                                                 ...    \n",
      "6814                                           0.543230    \n",
      "6815                                           0.524172    \n",
      "6816                                           0.520638    \n",
      "6817                                           0.554045    \n",
      "6818                                           0.549548    \n",
      "\n",
      "       Operating Gross Margin   Realized Sales Gross Margin  \\\n",
      "0                    0.601457                      0.601457   \n",
      "1                    0.610235                      0.610235   \n",
      "2                    0.601450                      0.601364   \n",
      "3                    0.583541                      0.583541   \n",
      "4                    0.598783                      0.598783   \n",
      "...                       ...                           ...   \n",
      "6814                 0.604455                      0.604462   \n",
      "6815                 0.598308                      0.598308   \n",
      "6816                 0.610444                      0.610213   \n",
      "6817                 0.607850                      0.607850   \n",
      "6818                 0.627409                      0.627409   \n",
      "\n",
      "       Operating Profit Rate   Pre-tax net Interest Rate  \\\n",
      "0                   0.998969                    0.796887   \n",
      "1                   0.998946                    0.797380   \n",
      "2                   0.998857                    0.796403   \n",
      "3                   0.998700                    0.796967   \n",
      "4                   0.998973                    0.797366   \n",
      "...                      ...                         ...   \n",
      "6814                0.998992                    0.797409   \n",
      "6815                0.998992                    0.797414   \n",
      "6816                0.998984                    0.797401   \n",
      "6817                0.999074                    0.797500   \n",
      "6818                0.998080                    0.801987   \n",
      "\n",
      "       After-tax net Interest Rate  \\\n",
      "0                         0.808809   \n",
      "1                         0.809301   \n",
      "2                         0.808388   \n",
      "3                         0.808966   \n",
      "4                         0.809304   \n",
      "...                            ...   \n",
      "6814                      0.809331   \n",
      "6815                      0.809327   \n",
      "6816                      0.809317   \n",
      "6817                      0.809399   \n",
      "6818                      0.813800   \n",
      "\n",
      "       Non-industry income and expenditure/revenue  \\\n",
      "0                                         0.302646   \n",
      "1                                         0.303556   \n",
      "2                                         0.302035   \n",
      "3                                         0.303350   \n",
      "4                                         0.303475   \n",
      "...                                            ...   \n",
      "6814                                      0.303510   \n",
      "6815                                      0.303520   \n",
      "6816                                      0.303512   \n",
      "6817                                      0.303498   \n",
      "6818                                      0.313415   \n",
      "\n",
      "       Continuous interest rate (after tax)  ...   Net Income to Total Assets  \\\n",
      "0                                  0.780985  ...                     0.716845   \n",
      "1                                  0.781506  ...                     0.795297   \n",
      "2                                  0.780284  ...                     0.774670   \n",
      "3                                  0.781241  ...                     0.739555   \n",
      "4                                  0.781550  ...                     0.795016   \n",
      "...                                     ...  ...                          ...   \n",
      "6814                               0.781588  ...                     0.799927   \n",
      "6815                               0.781586  ...                     0.799748   \n",
      "6816                               0.781546  ...                     0.797778   \n",
      "6817                               0.781663  ...                     0.811808   \n",
      "6818                               0.786079  ...                     0.815956   \n",
      "\n",
      "       Total assets to GNP price   No-credit Interval   Gross Profit to Sales  \\\n",
      "0                       0.009219             0.622879                0.601453   \n",
      "1                       0.008323             0.623652                0.610237   \n",
      "2                       0.040003             0.623841                0.601449   \n",
      "3                       0.003252             0.622929                0.583538   \n",
      "4                       0.003878             0.623521                0.598782   \n",
      "...                          ...                  ...                     ...   \n",
      "6814                    0.000466             0.623620                0.604455   \n",
      "6815                    0.001959             0.623931                0.598306   \n",
      "6816                    0.002840             0.624156                0.610441   \n",
      "6817                    0.002837             0.623957                0.607846   \n",
      "6818                    0.000707             0.626680                0.627408   \n",
      "\n",
      "       Net Income to Stockholder's Equity   Liability to Equity  \\\n",
      "0                                0.827890              0.290202   \n",
      "1                                0.839969              0.283846   \n",
      "2                                0.836774              0.290189   \n",
      "3                                0.834697              0.281721   \n",
      "4                                0.839973              0.278514   \n",
      "...                                   ...                   ...   \n",
      "6814                             0.840359              0.279606   \n",
      "6815                             0.840306              0.278132   \n",
      "6816                             0.840138              0.275789   \n",
      "6817                             0.841084              0.277547   \n",
      "6818                             0.841019              0.275114   \n",
      "\n",
      "       Degree of Financial Leverage (DFL)  \\\n",
      "0                                0.026601   \n",
      "1                                0.264577   \n",
      "2                                0.026555   \n",
      "3                                0.026697   \n",
      "4                                0.024752   \n",
      "...                                   ...   \n",
      "6814                             0.027064   \n",
      "6815                             0.027009   \n",
      "6816                             0.026791   \n",
      "6817                             0.026822   \n",
      "6818                             0.026793   \n",
      "\n",
      "       Interest Coverage Ratio (Interest expense to EBIT)   Net Income Flag  \\\n",
      "0                                              0.564050                   1   \n",
      "1                                              0.570175                   1   \n",
      "2                                              0.563706                   1   \n",
      "3                                              0.564663                   1   \n",
      "4                                              0.575617                   1   \n",
      "...                                                 ...                 ...   \n",
      "6814                                           0.566193                   1   \n",
      "6815                                           0.566018                   1   \n",
      "6816                                           0.565158                   1   \n",
      "6817                                           0.565302                   1   \n",
      "6818                                           0.565167                   1   \n",
      "\n",
      "       Equity to Liability  \n",
      "0                 0.016469  \n",
      "1                 0.020794  \n",
      "2                 0.016474  \n",
      "3                 0.023982  \n",
      "4                 0.035490  \n",
      "...                    ...  \n",
      "6814              0.029890  \n",
      "6815              0.038284  \n",
      "6816              0.097649  \n",
      "6817              0.044009  \n",
      "6818              0.233902  \n",
      "\n",
      "[6819 rows x 95 columns]\n"
     ]
    }
   ],
   "source": [
    "data=df.drop(['Bankrupt?'], axis = 1)\n",
    "print(data)"
   ]
  },
  {
   "cell_type": "markdown",
   "metadata": {},
   "source": [
    "## Analyzing using PCA"
   ]
  },
  {
   "cell_type": "code",
   "execution_count": 41,
   "metadata": {},
   "outputs": [
    {
     "name": "stdout",
     "output_type": "stream",
     "text": [
      "[[ 2.16532981e+09 -3.81494889e+07 -3.23761461e+09 ... -3.34204758e+09\n",
      "  -6.72487040e+07 -6.17697844e+07]\n",
      " [ 4.90236601e+08  8.46379452e+09  8.74609954e+08 ... -2.33057528e+09\n",
      "   3.30543714e+07 -7.74276757e+07]\n",
      " [-2.62013847e+09 -2.16996639e+09 -1.23941619e+09 ... -4.58462699e+08\n",
      "  -2.73737188e+08 -8.12374249e+07]\n",
      " ...\n",
      " [-2.62966345e+09 -2.70482399e+09 -1.45136980e+09 ... -5.23569752e+08\n",
      "  -1.05510733e+08 -5.63597281e+07]\n",
      " [-3.93145611e+09  1.16235646e+09  5.16590205e+08 ...  5.59121103e+08\n",
      "   1.57067794e+08  3.11636271e+09]\n",
      " [-2.50663412e+09 -2.09832184e+09 -6.90906267e+08 ... -4.64482610e+08\n",
      "  -9.93616716e+07 -6.83399010e+07]]\n"
     ]
    },
    {
     "data": {
      "text/plain": [
       "(6819, 10)"
      ]
     },
     "execution_count": 41,
     "metadata": {},
     "output_type": "execute_result"
    }
   ],
   "source": [
    "from sklearn.decomposition import PCA\n",
    "from sklearn.metrics import accuracy_score \n",
    "Transf_pca = PCA(n_components= 10)\n",
    "datanew = Transf_pca.fit_transform(data)\n",
    "print(datanew)\n",
    "datanew.shape"
   ]
  },
  {
   "cell_type": "code",
   "execution_count": 42,
   "metadata": {},
   "outputs": [
    {
     "name": "stdout",
     "output_type": "stream",
     "text": [
      "[[ 2.16532981e+09 -3.81494889e+07 -3.23761461e+09 ... -6.72487040e+07\n",
      "  -6.17697844e+07  1.00000000e+00]\n",
      " [ 4.90236601e+08  8.46379452e+09  8.74609954e+08 ...  3.30543714e+07\n",
      "  -7.74276757e+07  1.00000000e+00]\n",
      " [-2.62013847e+09 -2.16996639e+09 -1.23941619e+09 ... -2.73737188e+08\n",
      "  -8.12374249e+07  1.00000000e+00]\n",
      " ...\n",
      " [-2.62966345e+09 -2.70482399e+09 -1.45136980e+09 ... -1.05510733e+08\n",
      "  -5.63597281e+07  0.00000000e+00]\n",
      " [-3.93145611e+09  1.16235646e+09  5.16590205e+08 ...  1.57067794e+08\n",
      "   3.11636271e+09  0.00000000e+00]\n",
      " [-2.50663412e+09 -2.09832184e+09 -6.90906267e+08 ... -9.93616716e+07\n",
      "  -6.83399010e+07  0.00000000e+00]]\n",
      "RangeIndex(start=0, stop=11, step=1)\n"
     ]
    }
   ],
   "source": [
    "label = pd.DataFrame(label)\n",
    "label.shape\n",
    "newbase = np.concatenate((datanew, label), axis = 1)\n",
    "print(newbase)\n",
    "newbase.shape\n",
    "newbase=pd.DataFrame(newbase)\n",
    "print(newbase.columns)\n"
   ]
  },
  {
   "cell_type": "code",
   "execution_count": 43,
   "metadata": {},
   "outputs": [],
   "source": [
    "dataset_selected1=newbase.loc[newbase[10].isin([1])]\n",
    "dataset_selected0=newbase.loc[newbase[10].isin([0])]\n",
    "\n",
    "label1=dataset_selected1[10]\n",
    "data1=dataset_selected1.drop([10], axis=1)\n",
    "\n",
    "label0=dataset_selected0[10]\n",
    "\n",
    "label0=label0-1\n",
    "data0=dataset_selected0.drop([10], axis=1)"
   ]
  },
  {
   "cell_type": "code",
   "execution_count": 44,
   "metadata": {},
   "outputs": [],
   "source": [
    "from sklearn.model_selection import train_test_split\n",
    "x_train1, x_test1, y_train1, y_test1=train_test_split(data1, label1, test_size=0.33, random_state=0)\n",
    "from sklearn import svm\n",
    "model=svm.OneClassSVM(kernel='rbf', nu=1, gamma=0.00001)\n",
    "import time\n",
    "debut=time.time()\n",
    "model.fit(x_train1)\n",
    "fin=time.time()-debut"
   ]
  },
  {
   "cell_type": "code",
   "execution_count": 45,
   "metadata": {},
   "outputs": [],
   "source": [
    "import numpy as np\n",
    "data_tesst=np.concatenate((x_test1, data0), axis=0)\n",
    "label_tesst=np.concatenate((y_test1,label0),axis=0)\n",
    "pred=model.predict(data_tesst)"
   ]
  },
  {
   "cell_type": "code",
   "execution_count": 46,
   "metadata": {},
   "outputs": [
    {
     "name": "stdout",
     "output_type": "stream",
     "text": [
      "accuracy =\n",
      "98.9058752997602\n"
     ]
    }
   ],
   "source": [
    "from sklearn.metrics import accuracy_score \n",
    "ACC=accuracy_score(label_tesst, pred)*100\n",
    "print('accuracy =')\n",
    "print(ACC)"
   ]
  },
  {
   "cell_type": "code",
   "execution_count": 47,
   "metadata": {},
   "outputs": [
    {
     "name": "stdout",
     "output_type": "stream",
     "text": [
      "              precision    recall  f1-score   support\n",
      "\n",
      "        -1.0       0.99      1.00      0.99      6599\n",
      "         1.0       0.00      0.00      0.00        73\n",
      "\n",
      "    accuracy                           0.99      6672\n",
      "   macro avg       0.49      0.50      0.50      6672\n",
      "weighted avg       0.98      0.99      0.98      6672\n",
      "\n"
     ]
    },
    {
     "name": "stderr",
     "output_type": "stream",
     "text": [
      "C:\\Users\\svsah\\anaconda3\\lib\\site-packages\\sklearn\\metrics\\_classification.py:1221: UndefinedMetricWarning: Precision and F-score are ill-defined and being set to 0.0 in labels with no predicted samples. Use `zero_division` parameter to control this behavior.\n",
      "  _warn_prf(average, modifier, msg_start, len(result))\n"
     ]
    }
   ],
   "source": [
    "from sklearn.metrics import classification_report\n",
    "print(classification_report(label_tesst,pred))"
   ]
  },
  {
   "cell_type": "code",
   "execution_count": 48,
   "metadata": {},
   "outputs": [
    {
     "name": "stdout",
     "output_type": "stream",
     "text": [
      "[[6599    0]\n",
      " [  73    0]]\n"
     ]
    },
    {
     "data": {
      "text/plain": [
       "Text(0.5, 15.0, 'Predicted label')"
      ]
     },
     "execution_count": 48,
     "metadata": {},
     "output_type": "execute_result"
    },
    {
     "data": {
      "image/png": "[encoded data removed]",
      "text/plain": [
       "<Figure size 432x288 with 2 Axes>"
      ]
     },
     "metadata": {
      "needs_background": "light"
     },
     "output_type": "display_data"
    }
   ],
   "source": [
    "from sklearn.metrics import confusion_matrix\n",
    "CM=confusion_matrix(label_tesst, pred)\n",
    "print(CM)\n",
    "\n",
    "import numpy as np\n",
    "import matplotlib.pyplot as plt\n",
    "import seaborn as sns\n",
    "class_names=[0,1]\n",
    "fig, ax = plt.subplots()\n",
    "tick_marks = np.arange(len(class_names))\n",
    "plt.xticks(tick_marks, class_names)\n",
    "plt.yticks(tick_marks, class_names)\n",
    "sns.heatmap(pd.DataFrame(CM), annot=True, cmap=\"YlGnBu\", fmt='g')\n",
    "ax.xaxis.set_label_position(\"top\")\n",
    "plt.title('Confusion Matrix', y=1.1)\n",
    "plt.ylabel('Actual label')\n",
    "plt.xlabel('Predicted label')"
   ]
  },
  {
   "cell_type": "code",
   "execution_count": 49,
   "metadata": {},
   "outputs": [
    {
     "name": "stdout",
     "output_type": "stream",
     "text": [
      "                 0             1             2             3             4  \\\n",
      "0     2.165330e+09 -3.814949e+07 -3.237615e+09 -2.063212e+09 -1.969494e+09   \n",
      "1     4.902366e+08  8.463795e+09  8.746100e+08 -3.292132e+09 -1.383796e+09   \n",
      "2    -2.620138e+09 -2.169966e+09 -1.239416e+09  8.771527e+08 -2.812465e+09   \n",
      "3     3.249284e+09  5.987899e+09 -2.180465e+09 -4.385660e+09 -2.566962e+09   \n",
      "4     7.604602e+09 -2.951427e+09  2.267775e+09 -2.370486e+09 -1.647314e+09   \n",
      "...            ...           ...           ...           ...           ...   \n",
      "6814 -2.835783e+09 -2.233507e+09 -1.652095e+09  1.622071e+09 -1.970057e+09   \n",
      "6815 -1.597369e+09  5.539448e+09  6.691095e+09  6.700097e+08  4.564149e+09   \n",
      "6816 -2.629663e+09 -2.704824e+09 -1.451370e+09 -3.203723e+08 -2.070655e+09   \n",
      "6817 -3.931456e+09  1.162356e+09  5.165902e+08 -2.674333e+08 -2.380990e+09   \n",
      "6818 -2.506634e+09 -2.098322e+09 -6.909063e+08  1.826166e+09 -4.451684e+09   \n",
      "\n",
      "                 5             6             7             8             9  \\\n",
      "0    -1.410239e+09 -8.723455e+08 -3.342048e+09 -6.724870e+07 -6.176978e+07   \n",
      "1    -1.194097e+09 -2.313543e+08 -2.330575e+09  3.305437e+07 -7.742768e+07   \n",
      "2    -1.582306e+09  1.654892e+09 -4.584627e+08 -2.737372e+08 -8.123742e+07   \n",
      "3     1.061380e+09  7.876119e+09  4.758288e+09 -5.484820e+07  2.406781e+07   \n",
      "4    -3.956955e+08 -4.681061e+08  2.215795e+09 -7.627850e+07 -4.244471e+07   \n",
      "...            ...           ...           ...           ...           ...   \n",
      "6814  2.041660e+09 -2.013470e+09 -3.299241e+08 -7.925099e+07 -7.259160e+07   \n",
      "6815 -1.530164e+09 -9.365200e+07  2.090440e+09  2.408051e+07 -5.490485e+07   \n",
      "6816 -1.982055e+09 -9.653597e+08 -5.235698e+08 -1.055107e+08 -5.635973e+07   \n",
      "6817  5.204110e+08 -1.760442e+09  5.591211e+08  1.570678e+08  3.116363e+09   \n",
      "6818 -2.127027e+09 -1.120398e+09 -4.644826e+08 -9.936167e+07 -6.833990e+07   \n",
      "\n",
      "       10  \n",
      "0     1.0  \n",
      "1     1.0  \n",
      "2     1.0  \n",
      "3     1.0  \n",
      "4     1.0  \n",
      "...   ...  \n",
      "6814  0.0  \n",
      "6815  0.0  \n",
      "6816  0.0  \n",
      "6817  0.0  \n",
      "6818  0.0  \n",
      "\n",
      "[6819 rows x 11 columns]\n"
     ]
    },
    {
     "data": {
      "text/plain": [
       "0.0    6599\n",
       "1.0     220\n",
       "Name: 10, dtype: int64"
      ]
     },
     "execution_count": 49,
     "metadata": {},
     "output_type": "execute_result"
    }
   ],
   "source": [
    "print(newbase)\n",
    "label=newbase[10]\n",
    "data=newbase.drop([10],axis=1)\n",
    "label.value_counts()"
   ]
  },
  {
   "cell_type": "code",
   "execution_count": 67,
   "metadata": {},
   "outputs": [],
   "source": [
    "from sklearn.tree import DecisionTreeClassifier\n",
    "from sklearn.model_selection import train_test_split\n",
    "dtree = DecisionTreeClassifier()\n",
    "x_train,x_test,y_train,y_test = train_test_split(data,label,test_size = 0.3,random_state = 0)\n",
    "import time\n",
    "debut=time.time()\n",
    "dtree.fit(x_train,y_train)\n",
    "fin=time.time()-debut\n",
    "prediction = dtree.predict(x_test)\n",
    "\n"
   ]
  },
  {
   "cell_type": "code",
   "execution_count": 68,
   "metadata": {},
   "outputs": [
    {
     "name": "stdout",
     "output_type": "stream",
     "text": [
      "With decision tree accuracy is:  97.95454545454545\n"
     ]
    }
   ],
   "source": [
    "from sklearn.metrics import accuracy_score\n",
    "ACC=accuracy_score(y_test,prediction)*100\n",
    "print('With decision tree accuracy is: ',ACC)"
   ]
  },
  {
   "cell_type": "code",
   "execution_count": 69,
   "metadata": {},
   "outputs": [
    {
     "name": "stdout",
     "output_type": "stream",
     "text": [
      "              precision    recall  f1-score   support\n",
      "\n",
      "         0.0       1.00      0.96      0.98      1925\n",
      "         1.0       0.96      1.00      0.98      2035\n",
      "\n",
      "    accuracy                           0.98      3960\n",
      "   macro avg       0.98      0.98      0.98      3960\n",
      "weighted avg       0.98      0.98      0.98      3960\n",
      "\n"
     ]
    }
   ],
   "source": [
    "from sklearn.metrics import classification_report\n",
    "Class=classification_report(y_test,prediction)\n",
    "print(Class)"
   ]
  },
  {
   "cell_type": "code",
   "execution_count": 70,
   "metadata": {},
   "outputs": [
    {
     "name": "stdout",
     "output_type": "stream",
     "text": [
      "[[1844   81]\n",
      " [   0 2035]]\n"
     ]
    },
    {
     "data": {
      "text/plain": [
       "Text(0.5, 15.0, 'Predicted label')"
      ]
     },
     "execution_count": 70,
     "metadata": {},
     "output_type": "execute_result"
    },
    {
     "data": {
      "image/png": "[encoded data removed]",
      "text/plain": [
       "<Figure size 432x288 with 2 Axes>"
      ]
     },
     "metadata": {
      "needs_background": "light"
     },
     "output_type": "display_data"
    }
   ],
   "source": [
    "from sklearn.metrics import confusion_matrix\n",
    "CM=confusion_matrix(y_test,prediction)\n",
    "print(CM)\n",
    "\n",
    "\n",
    "import numpy as np\n",
    "import matplotlib.pyplot as plt\n",
    "import seaborn as sns\n",
    "class_names=[0,1] # name of classes\n",
    "fig, ax = plt.subplots()\n",
    "tick_marks = np.arange(len(class_names))\n",
    "plt.xticks(tick_marks, class_names)\n",
    "plt.yticks(tick_marks, class_names)\n",
    "\n",
    "sns.heatmap(pd.DataFrame(CM), annot=True, cmap=\"YlGnBu\" ,fmt='g')\n",
    "ax.xaxis.set_label_position(\"top\")\n",
    "\n",
    "plt.title('Confusion matrix', y=1.1)\n",
    "plt.ylabel('Actual label')\n",
    "plt.xlabel('Predicted label')"
   ]
  },
  {
   "cell_type": "code",
   "execution_count": 71,
   "metadata": {},
   "outputs": [
    {
     "name": "stdout",
     "output_type": "stream",
     "text": [
      "[0.         0.04207792 1.        ] [0. 1. 1.]\n",
      "97.89610389610391\n"
     ]
    },
    {
     "data": {
      "image/png": "[encoded data removed]",
      "text/plain": [
       "<Figure size 432x288 with 1 Axes>"
      ]
     },
     "metadata": {
      "needs_background": "light"
     },
     "output_type": "display_data"
    }
   ],
   "source": [
    "from sklearn.metrics import roc_curve,auc\n",
    "fp, tp, thresholds=roc_curve(y_test,prediction,pos_label=1)\n",
    "print(fp, tp)\n",
    "AUC=auc(fp, tp)*100\n",
    "print(AUC)\n",
    "\n",
    "\n",
    "import matplotlib.pyplot as plt\n",
    "plt.plot(fp, tp, color='blue',label = 'AUC = %0.2f' % AUC)\n",
    "plt.title('Receiver Operating Characteristic')\n",
    "\n",
    "plt.legend(loc = 'lower right')\n",
    "plt.plot([0, 1], [0, 1],'r--')\n",
    "plt.xlim([0, 1])\n",
    "plt.ylim([0, 1])\n",
    "plt.ylabel('True Positive Rate')\n",
    "plt.xlabel('False Positive Rate')\n",
    "plt.show()"
   ]
  },
  {
   "cell_type": "code",
   "execution_count": 72,
   "metadata": {},
   "outputs": [
    {
     "data": {
      "image/png": "[encoded data removed]",
      "text/plain": [
       "<Figure size 720x720 with 1 Axes>"
      ]
     },
     "metadata": {
      "needs_background": "light"
     },
     "output_type": "display_data"
    }
   ],
   "source": [
    "from sklearn.tree import plot_tree\n",
    "\n",
    "import matplotlib.pyplot as plt\n",
    "plt.figure(figsize=(10,10))\n",
    "plot_tree(dtree)\n",
    "plt.show()"
   ]
  },
  {
   "cell_type": "code",
   "execution_count": 73,
   "metadata": {},
   "outputs": [
    {
     "name": "stdout",
     "output_type": "stream",
     "text": [
      "f1_score is:  98.04866297277765\n"
     ]
    }
   ],
   "source": [
    "from sklearn.metrics import f1_score\n",
    "f1score=f1_score(y_test,prediction)*100\n",
    "print('f1_score is: ',f1score) "
   ]
  },
  {
   "cell_type": "code",
   "execution_count": 74,
   "metadata": {},
   "outputs": [
    {
     "name": "stderr",
     "output_type": "stream",
     "text": [
      "<ipython-input-74-909b4c94ef82>:7: DataConversionWarning: A column-vector y was passed when a 1d array was expected. Please change the shape of y to (n_samples,), for example using ravel().\n",
      "  rf.fit(x_train,y_train)\n"
     ]
    }
   ],
   "source": [
    "from sklearn.ensemble import RandomForestClassifier\n",
    "from sklearn.model_selection import train_test_split\n",
    "rf = RandomForestClassifier(criterion = 'gini')\n",
    "x_train,x_test,y_train,y_test = train_test_split(data,label,test_size = 0.3,random_state =1)\n",
    "import time\n",
    "debut=time.time()\n",
    "rf.fit(x_train,y_train)\n",
    "fin=time.time()-debut\n",
    "\n",
    "prediction = rf.predict(x_test)"
   ]
  },
  {
   "cell_type": "code",
   "execution_count": 75,
   "metadata": {},
   "outputs": [
    {
     "name": "stdout",
     "output_type": "stream",
     "text": [
      "With random forest accuracy is:  99.69696969696969\n"
     ]
    }
   ],
   "source": [
    "from sklearn.metrics import accuracy_score\n",
    "ACC=accuracy_score(y_test,prediction)*100\n",
    "print('With random forest accuracy is: ',ACC)"
   ]
  },
  {
   "cell_type": "code",
   "execution_count": 76,
   "metadata": {},
   "outputs": [
    {
     "name": "stdout",
     "output_type": "stream",
     "text": [
      "              precision    recall  f1-score   support\n",
      "\n",
      "         0.0       1.00      0.99      1.00      1999\n",
      "         1.0       0.99      1.00      1.00      1961\n",
      "\n",
      "    accuracy                           1.00      3960\n",
      "   macro avg       1.00      1.00      1.00      3960\n",
      "weighted avg       1.00      1.00      1.00      3960\n",
      "\n"
     ]
    }
   ],
   "source": [
    "from sklearn.metrics import classification_report\n",
    "Class=classification_report(y_test,prediction)\n",
    "print(Class)"
   ]
  },
  {
   "cell_type": "code",
   "execution_count": 77,
   "metadata": {},
   "outputs": [
    {
     "name": "stdout",
     "output_type": "stream",
     "text": [
      "[[1987   12]\n",
      " [   0 1961]]\n"
     ]
    },
    {
     "data": {
      "text/plain": [
       "Text(0.5, 15.0, 'Predicted label')"
      ]
     },
     "execution_count": 77,
     "metadata": {},
     "output_type": "execute_result"
    },
    {
     "data": {
      "image/png": "[encoded data removed]",
      "text/plain": [
       "<Figure size 432x288 with 2 Axes>"
      ]
     },
     "metadata": {
      "needs_background": "light"
     },
     "output_type": "display_data"
    }
   ],
   "source": [
    "from sklearn.metrics import confusion_matrix\n",
    "CM=confusion_matrix(y_test,prediction)\n",
    "print(CM)\n",
    "\n",
    "\n",
    "import numpy as np\n",
    "import matplotlib.pyplot as plt\n",
    "import seaborn as sns\n",
    "class_names=[0,1] # name of classes\n",
    "fig, ax = plt.subplots()\n",
    "tick_marks = np.arange(len(class_names))\n",
    "plt.xticks(tick_marks, class_names)\n",
    "plt.yticks(tick_marks, class_names)\n",
    "\n",
    "sns.heatmap(pd.DataFrame(CM), annot=True, cmap=\"YlGnBu\" ,fmt='g')\n",
    "ax.xaxis.set_label_position(\"top\")\n",
    "\n",
    "plt.title('Confusion matrix', y=1.1)\n",
    "plt.ylabel('Actual label')\n",
    "plt.xlabel('Predicted label')"
   ]
  },
  {
   "cell_type": "code",
   "execution_count": 78,
   "metadata": {},
   "outputs": [
    {
     "name": "stdout",
     "output_type": "stream",
     "text": [
      "[0.       0.006003 1.      ] [0. 1. 1.]\n",
      "99.69984992496248\n"
     ]
    },
    {
     "data": {
      "image/png": "[encoded data removed]",
      "text/plain": [
       "<Figure size 432x288 with 1 Axes>"
      ]
     },
     "metadata": {
      "needs_background": "light"
     },
     "output_type": "display_data"
    }
   ],
   "source": [
    "from sklearn.metrics import roc_curve,auc\n",
    "fp, tp, thresholds=roc_curve(y_test,prediction,pos_label=1)\n",
    "print(fp, tp)\n",
    "AUC=auc(fp, tp)*100\n",
    "print(AUC)\n",
    "\n",
    "\n",
    "import matplotlib.pyplot as plt\n",
    "plt.plot(fp, tp, color='blue',label = 'AUC = %0.2f' % AUC)\n",
    "plt.title('Receiver Operating Characteristic')\n",
    "\n",
    "plt.legend(loc = 'lower right')\n",
    "plt.plot([0, 1], [0, 1],'r--')\n",
    "plt.xlim([0, 1])\n",
    "plt.ylim([0, 1])\n",
    "plt.ylabel('True Positive Rate')\n",
    "plt.xlabel('False Positive Rate')\n",
    "plt.show()"
   ]
  },
  {
   "cell_type": "code",
   "execution_count": 79,
   "metadata": {},
   "outputs": [
    {
     "name": "stdout",
     "output_type": "stream",
     "text": [
      "f1_score is:  99.69496695475343\n"
     ]
    }
   ],
   "source": [
    "from sklearn.metrics import f1_score\n",
    "f1score=f1_score(y_test,prediction)*100\n",
    "print('f1_score is: ',f1score) "
   ]
  },
  {
   "cell_type": "code",
   "execution_count": null,
   "metadata": {},
   "outputs": [],
   "source": []
  }
 ],
 "metadata": {
  "kernelspec": {
   "display_name": "Python 3",
   "language": "python",
   "name": "python3"
  },
  "language_info": {
   "codemirror_mode": {
    "name": "ipython",
    "version": 3
   },
   "file_extension": ".py",
   "mimetype": "text/x-python",
   "name": "python",
   "nbconvert_exporter": "python",
   "pygments_lexer": "ipython3",
   "version": "3.8.3"
  }
 },
 "nbformat": 4,
 "nbformat_minor": 4
}
